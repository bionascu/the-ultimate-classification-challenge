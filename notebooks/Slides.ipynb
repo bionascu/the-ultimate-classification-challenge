{
 "cells": [
  {
   "cell_type": "markdown",
   "metadata": {
    "slideshow": {
     "slide_type": "slide"
    }
   },
   "source": [
    "# Extreme multi-class classification\n",
    "\n",
    "ID2223 Scalable Machine Learning and Deep Learning\n",
    "\n",
    "**Federico Baldassarre (fedbal@kth.se)** \n",
    "\n",
    "**Beatrice Ionascu (bionascu@kth.se)**"
   ]
  },
  {
   "cell_type": "code",
   "execution_count": 40,
   "metadata": {
    "slideshow": {
     "slide_type": "skip"
    }
   },
   "outputs": [],
   "source": [
    "%matplotlib inline\n",
    "\n",
    "import os, sys\n",
    "import pandas as pd\n",
    "import numpy as np\n",
    "import matplotlib.pyplot as plt\n",
    "from IPython.display import display, HTML\n",
    "\n",
    "plt.rcParams['figure.figsize'] = (15, 5)\n",
    "\n",
    "# add the 'src' directory so we can import modules\n",
    "sys.path.append('../src')\n",
    "\n",
    "from utils.paths import data_raw_dir, data_processed_dir"
   ]
  },
  {
   "cell_type": "markdown",
   "metadata": {
    "slideshow": {
     "slide_type": "slide"
    }
   },
   "source": [
    "## Problem\n",
    "- [Cdiscount](https://www.cdiscount.com/) is France’s largest non-food e-commerce company\n",
    "- Product classification based on their images is challenging (12M+ images and 5000+ classes)\n",
    "- The dataset is severly imbalanced"
   ]
  },
  {
   "cell_type": "markdown",
   "metadata": {
    "slideshow": {
     "slide_type": "slide"
    }
   },
   "source": [
    "## Data set\n",
    "\n",
    "![data](./data.png)"
   ]
  },
  {
   "cell_type": "code",
   "execution_count": 41,
   "metadata": {
    "slideshow": {
     "slide_type": "skip"
    }
   },
   "outputs": [],
   "source": [
    "categories = pd.read_pickle(\n",
    "    os.path.join(data_processed_dir, 'categories.pickle'))\n",
    "def categories_example():\n",
    "    display(HTML(\n",
    "        categories.filter(like='category', axis=1).head().to_html(index=False)))"
   ]
  },
  {
   "cell_type": "code",
   "execution_count": 42,
   "metadata": {
    "slideshow": {
     "slide_type": "subslide"
    }
   },
   "outputs": [
    {
     "data": {
      "text/html": [
       "<table border=\"1\" class=\"dataframe\">\n",
       "  <thead>\n",
       "    <tr style=\"text-align: right;\">\n",
       "      <th>category_id</th>\n",
       "      <th>category_level1</th>\n",
       "      <th>category_level2</th>\n",
       "      <th>category_level3</th>\n",
       "    </tr>\n",
       "  </thead>\n",
       "  <tbody>\n",
       "    <tr>\n",
       "      <td>1000021794</td>\n",
       "      <td>ABONNEMENT / SERVICES</td>\n",
       "      <td>CARTE PREPAYEE</td>\n",
       "      <td>CARTE PREPAYEE MULTIMEDIA</td>\n",
       "    </tr>\n",
       "    <tr>\n",
       "      <td>1000012764</td>\n",
       "      <td>AMENAGEMENT URBAIN - VOIRIE</td>\n",
       "      <td>AMENAGEMENT URBAIN</td>\n",
       "      <td>ABRI FUMEUR</td>\n",
       "    </tr>\n",
       "    <tr>\n",
       "      <td>1000012776</td>\n",
       "      <td>AMENAGEMENT URBAIN - VOIRIE</td>\n",
       "      <td>AMENAGEMENT URBAIN</td>\n",
       "      <td>ABRI VELO - ABRI MOTO</td>\n",
       "    </tr>\n",
       "    <tr>\n",
       "      <td>1000012768</td>\n",
       "      <td>AMENAGEMENT URBAIN - VOIRIE</td>\n",
       "      <td>AMENAGEMENT URBAIN</td>\n",
       "      <td>FONTAINE A EAU</td>\n",
       "    </tr>\n",
       "    <tr>\n",
       "      <td>1000012755</td>\n",
       "      <td>AMENAGEMENT URBAIN - VOIRIE</td>\n",
       "      <td>SIGNALETIQUE</td>\n",
       "      <td>PANNEAU D'INFORMATION EXTERIEUR</td>\n",
       "    </tr>\n",
       "  </tbody>\n",
       "</table>"
      ],
      "text/plain": [
       "<IPython.core.display.HTML object>"
      ]
     },
     "metadata": {},
     "output_type": "display_data"
    }
   ],
   "source": [
    "categories_example()"
   ]
  },
  {
   "cell_type": "code",
   "execution_count": 43,
   "metadata": {
    "slideshow": {
     "slide_type": "skip"
    }
   },
   "outputs": [],
   "source": [
    "product_distrib = pd.read_pickle(os.path.join(data_processed_dir, 'cat_id_prod_distrib.pickle'))\n",
    "image_distrib = pd.read_pickle(os.path.join(data_processed_dir, 'cat_id_img_distrib.pickle'))\n",
    "categ_counts = pd.read_csv(os.path.join(data_raw_dir, 'category_names.csv'))"
   ]
  },
  {
   "cell_type": "code",
   "execution_count": 44,
   "metadata": {
    "slideshow": {
     "slide_type": "subslide"
    }
   },
   "outputs": [
    {
     "name": "stdout",
     "output_type": "stream",
     "text": [
      "There are 7069896 products\n",
      "There are 12371293 images\n"
     ]
    },
    {
     "data": {
      "text/html": [
       "<div>\n",
       "<style scoped>\n",
       "    .dataframe tbody tr th:only-of-type {\n",
       "        vertical-align: middle;\n",
       "    }\n",
       "\n",
       "    .dataframe tbody tr th {\n",
       "        vertical-align: top;\n",
       "    }\n",
       "\n",
       "    .dataframe thead th {\n",
       "        text-align: right;\n",
       "    }\n",
       "</style>\n",
       "<table border=\"1\" class=\"dataframe\">\n",
       "  <thead>\n",
       "    <tr style=\"text-align: right;\">\n",
       "      <th></th>\n",
       "      <th>Category counts</th>\n",
       "    </tr>\n",
       "  </thead>\n",
       "  <tbody>\n",
       "    <tr>\n",
       "      <th>category_id</th>\n",
       "      <td>5270</td>\n",
       "    </tr>\n",
       "    <tr>\n",
       "      <th>category_level1</th>\n",
       "      <td>49</td>\n",
       "    </tr>\n",
       "    <tr>\n",
       "      <th>category_level2</th>\n",
       "      <td>483</td>\n",
       "    </tr>\n",
       "    <tr>\n",
       "      <th>category_level3</th>\n",
       "      <td>5263</td>\n",
       "    </tr>\n",
       "  </tbody>\n",
       "</table>\n",
       "</div>"
      ],
      "text/plain": [
       "                 Category counts\n",
       "category_id                 5270\n",
       "category_level1               49\n",
       "category_level2              483\n",
       "category_level3             5263"
      ]
     },
     "execution_count": 44,
     "metadata": {},
     "output_type": "execute_result"
    }
   ],
   "source": [
    "print('There are {} products'.format(product_distrib.sum()))\n",
    "print('There are {} images'.format(image_distrib.sum()))\n",
    "categ_counts.nunique().to_frame('Category counts')"
   ]
  },
  {
   "cell_type": "markdown",
   "metadata": {
    "slideshow": {
     "slide_type": "subslide"
    }
   },
   "source": [
    "The 7M+ products are unevenly distributed among the 5270 categories:\n",
    "- many categories contain very few product examples\n",
    "- few categories contain the largest part of the products"
   ]
  },
  {
   "cell_type": "code",
   "execution_count": 45,
   "metadata": {
    "slideshow": {
     "slide_type": "skip"
    }
   },
   "outputs": [],
   "source": [
    "cat_id_distrib = pd.read_pickle(os.path.join(data_processed_dir, 'cat_id_prod_distrib.pickle'))\n",
    "cat_1_distrib = pd.read_pickle(os.path.join(data_processed_dir, 'cat_1_prod_distrib.pickle'))\n",
    "cat_2_distrib = pd.read_pickle(os.path.join(data_processed_dir, 'cat_2_prod_distrib.pickle'))\n",
    "cat_3_distrib = pd.read_pickle(os.path.join(data_processed_dir, 'cat_3_prod_distrib.pickle'))\n",
    "\n",
    "def histograms():    \n",
    "    fig, ax = plt.subplots(2, 2, figsize=(16, 8))\n",
    "    ax=ax.ravel()\n",
    "    cat_1_distrib.hist(log=True, bins=50,ax=ax[0])\n",
    "    ax[0].set_title('Category Level 1 ({})'.format(cat_1_distrib.size))\n",
    "    cat_2_distrib.hist(log=True, bins=50,ax=ax[1])\n",
    "    ax[1].set_title('Category Level 2 ({})'.format(cat_2_distrib.size))\n",
    "    cat_3_distrib.hist(log=True, bins=50,ax=ax[2])\n",
    "    ax[2].set_title('Category Level 3 ({})'.format(cat_3_distrib.size))\n",
    "    cat_id_distrib.hist(log=True, bins=50,ax=ax[3])\n",
    "    ax[3].set_title('Category id ({})'.format(cat_id_distrib.size))\n",
    "    for a in ax[2:]: a.set_xlabel('Number of products')"
   ]
  },
  {
   "cell_type": "code",
   "execution_count": 46,
   "metadata": {
    "slideshow": {
     "slide_type": "fragment"
    }
   },
   "outputs": [
    {
     "data": {
      "image/png": "[encoded data removed]",
      "text/plain": [
       "<matplotlib.figure.Figure at 0x7fe03c124c18>"
      ]
     },
     "metadata": {},
     "output_type": "display_data"
    }
   ],
   "source": [
    "histograms()"
   ]
  },
  {
   "cell_type": "markdown",
   "metadata": {
    "slideshow": {
     "slide_type": "subslide"
    }
   },
   "source": [
    "Categories containing the most products:"
   ]
  },
  {
   "cell_type": "code",
   "execution_count": 47,
   "metadata": {
    "slideshow": {
     "slide_type": "skip"
    }
   },
   "outputs": [],
   "source": [
    "def top5():\n",
    "    display(HTML(\n",
    "        pd.merge(categories.filter(like='category'), \n",
    "         cat_id_distrib.sort_values(ascending=False).head().to_frame('product counts'),\n",
    "         left_index=True, right_index=True).sort_values('product counts', ascending=False)\n",
    "        .to_html(index=False)))"
   ]
  },
  {
   "cell_type": "code",
   "execution_count": 48,
   "metadata": {
    "slideshow": {
     "slide_type": "fragment"
    }
   },
   "outputs": [
    {
     "data": {
      "text/html": [
       "<table border=\"1\" class=\"dataframe\">\n",
       "  <thead>\n",
       "    <tr style=\"text-align: right;\">\n",
       "      <th>category_id</th>\n",
       "      <th>category_level1</th>\n",
       "      <th>category_level2</th>\n",
       "      <th>category_level3</th>\n",
       "      <th>product counts</th>\n",
       "    </tr>\n",
       "  </thead>\n",
       "  <tbody>\n",
       "    <tr>\n",
       "      <td>1000018296</td>\n",
       "      <td>MUSIQUE</td>\n",
       "      <td>CD</td>\n",
       "      <td>CD POP ROCK - CD ROCK INDE</td>\n",
       "      <td>79640</td>\n",
       "    </tr>\n",
       "    <tr>\n",
       "      <td>1000011423</td>\n",
       "      <td>INFORMATIQUE</td>\n",
       "      <td>IMPRESSION - SCANNER</td>\n",
       "      <td>TONER - RECUPERATEUR DE TONER</td>\n",
       "      <td>71116</td>\n",
       "    </tr>\n",
       "    <tr>\n",
       "      <td>1000011427</td>\n",
       "      <td>INFORMATIQUE</td>\n",
       "      <td>IMPRESSION - SCANNER</td>\n",
       "      <td>CARTOUCHE IMPRIMANTE</td>\n",
       "      <td>69784</td>\n",
       "    </tr>\n",
       "    <tr>\n",
       "      <td>1000014202</td>\n",
       "      <td>LIBRAIRIE</td>\n",
       "      <td>LITTERATURE</td>\n",
       "      <td>LITTERATURE FRANCAISE</td>\n",
       "      <td>65642</td>\n",
       "    </tr>\n",
       "    <tr>\n",
       "      <td>1000015309</td>\n",
       "      <td>LIBRAIRIE</td>\n",
       "      <td>AUTRES LIVRES</td>\n",
       "      <td>AUTRES LIVRES</td>\n",
       "      <td>65435</td>\n",
       "    </tr>\n",
       "  </tbody>\n",
       "</table>"
      ],
      "text/plain": [
       "<IPython.core.display.HTML object>"
      ]
     },
     "metadata": {},
     "output_type": "display_data"
    }
   ],
   "source": [
    "top5()"
   ]
  },
  {
   "cell_type": "markdown",
   "metadata": {
    "slideshow": {
     "slide_type": "subslide"
    }
   },
   "source": [
    "Categories containing the least products:"
   ]
  },
  {
   "cell_type": "code",
   "execution_count": 49,
   "metadata": {
    "slideshow": {
     "slide_type": "skip"
    }
   },
   "outputs": [],
   "source": [
    "def bottom5():\n",
    "    display(HTML(\n",
    "        pd.merge(categories.filter(like='category'), \n",
    "         cat_id_distrib.sort_values(ascending=False).tail().to_frame('product counts'),\n",
    "         left_index=True, right_index=True).sort_values('product counts', ascending=False)\n",
    "        .to_html(index=False)))"
   ]
  },
  {
   "cell_type": "code",
   "execution_count": 50,
   "metadata": {
    "slideshow": {
     "slide_type": "fragment"
    }
   },
   "outputs": [
    {
     "data": {
      "text/html": [
       "<table border=\"1\" class=\"dataframe\">\n",
       "  <thead>\n",
       "    <tr style=\"text-align: right;\">\n",
       "      <th>category_id</th>\n",
       "      <th>category_level1</th>\n",
       "      <th>category_level2</th>\n",
       "      <th>category_level3</th>\n",
       "      <th>product counts</th>\n",
       "    </tr>\n",
       "  </thead>\n",
       "  <tbody>\n",
       "    <tr>\n",
       "      <td>1000015609</td>\n",
       "      <td>CHAUSSURES - ACCESSOIRES</td>\n",
       "      <td>ACCESSOIRES CHAUSSURES</td>\n",
       "      <td>ESSUIE-BOTTES - LAVE-BOTTES</td>\n",
       "      <td>12</td>\n",
       "    </tr>\n",
       "    <tr>\n",
       "      <td>1000013297</td>\n",
       "      <td>ELECTRONIQUE</td>\n",
       "      <td>CAPTEURS</td>\n",
       "      <td>SYSTEME DE SURVEILLANCE DE NIVEAU</td>\n",
       "      <td>12</td>\n",
       "    </tr>\n",
       "    <tr>\n",
       "      <td>1000008894</td>\n",
       "      <td>JEUX - JOUETS</td>\n",
       "      <td>JONGLERIE</td>\n",
       "      <td>ASSIETTE CHINOISE</td>\n",
       "      <td>12</td>\n",
       "    </tr>\n",
       "    <tr>\n",
       "      <td>1000019804</td>\n",
       "      <td>SPORT</td>\n",
       "      <td>BASEBALL</td>\n",
       "      <td>BLOUSON DE BASEBALL - VESTE DE BASEBALL</td>\n",
       "      <td>12</td>\n",
       "    </tr>\n",
       "    <tr>\n",
       "      <td>1000020847</td>\n",
       "      <td>TV - VIDEO - SON</td>\n",
       "      <td>PROTECTION - ENTRETIEN</td>\n",
       "      <td>HOUSSE POUR ENREGISTEUR - HOUSSE POUR DICTAPHO...</td>\n",
       "      <td>12</td>\n",
       "    </tr>\n",
       "  </tbody>\n",
       "</table>"
      ],
      "text/plain": [
       "<IPython.core.display.HTML object>"
      ]
     },
     "metadata": {},
     "output_type": "display_data"
    }
   ],
   "source": [
    "bottom5()"
   ]
  },
  {
   "cell_type": "markdown",
   "metadata": {
    "slideshow": {
     "slide_type": "slide"
    }
   },
   "source": [
    "## Approach\n",
    "### Transfer Learning\n",
    "- Reuse the architecture and the weights of another network to extract a representation of the images\n",
    "- This representation contains useful information for the classification task\n",
    "- A shallow network can be trained to classify the images into the final categories."
   ]
  },
  {
   "cell_type": "markdown",
   "metadata": {
    "slideshow": {
     "slide_type": "subslide"
    }
   },
   "source": [
    "- Only the weights of the shallow classification network are trained\n",
    "- The pre-trained weights of the feature extraction networks are frozen during training\n",
    "- Xception is the most recent addition to the publicly available models for image classification\n",
    "  - Lighter and faster than Inception and VGG\n",
    "  - Relatively small price paid in accuracy on ImageNet\n",
    "\n",
    "![xception+shallow network](./architecture.png)"
   ]
  },
  {
   "cell_type": "markdown",
   "metadata": {
    "slideshow": {
     "slide_type": "subslide"
    }
   },
   "source": [
    "### Classification network architecture\n",
    "\n",
    "```\n",
    "______________________________________________________________\n",
    "Layer (type)                 Output Shape                Param #   \n",
    "=================================================================\n",
    "InputLayer                   (?, 6, 6, 2048)                 \n",
    "_________________________________________________________________\n",
    "Conv2D (1x1 kernel)          (?, 6, 6, 64)               131,136    \n",
    "_________________________________________________________________\n",
    "Dropout                      (?, 6, 6, 64)                   \n",
    "_________________________________________________________________\n",
    "Conv2D (4x4 kernel)          (?, 3, 3, 128)              131,200    \n",
    "_________________________________________________________________\n",
    "Dropout                      (?, 3, 3, 128)                  \n",
    "_________________________________________________________________\n",
    "Conv2D (3x3 kernel)          (?, 1, 1, 256)              295,168    \n",
    "_________________________________________________________________\n",
    "Dropout                      (?, 1, 1, 256)                  \n",
    "_________________________________________________________________\n",
    "Flatten                      (?, 256)                        \n",
    "_________________________________________________________________\n",
    "Dense                        (?, 5270)                 1,354,390   \n",
    "=================================================================\n",
    "Trainable params: 1,911,894\n",
    "_________________________________________________________________\n",
    "```"
   ]
  },
  {
   "cell_type": "markdown",
   "metadata": {
    "slideshow": {
     "slide_type": "subslide"
    }
   },
   "source": [
    "### Negative sampling\n",
    "\n",
    "- The fully connected layer accounts for 70% of the weights, because of the high number of output classes\n",
    "- To speed up training, negative sampling can be used, inspired by its use cases in Natural Language Processing\n",
    "- Subsample the output vector to include the true label and part of the false labels and only compute the loss for these, backpropagation is then performed from these sampled labels only\n",
    "- A subsapled loss function results in faster training, but lower final accuracy"
   ]
  },
  {
   "cell_type": "markdown",
   "metadata": {
    "slideshow": {
     "slide_type": "slide"
    }
   },
   "source": [
    "## Training\n",
    "\n",
    "### Pre-processing and feature extraction\n",
    "- Image features are extracted prior to the actual training, to avoid the computational overhead of Xception\n",
    "- Multiple embedding-label pairs are stored in binary format into TFRecords, to reduce I/O latency\n",
    "- The data input pipeline is kept inside TensorFlow via the new Dataset API, avoiding the exchange between Python and TensorFlow that would come from `feed_dict`"
   ]
  },
  {
   "cell_type": "markdown",
   "metadata": {
    "slideshow": {
     "slide_type": "subslide"
    }
   },
   "source": [
    "### Computation graph\n",
    "\n",
    "![computation graph](./computational_graph.png)"
   ]
  },
  {
   "cell_type": "markdown",
   "metadata": {
    "slideshow": {
     "slide_type": "slide"
    }
   },
   "source": [
    "## Results\n",
    "\n",
    "- Training experiments on Google Compute Engine instances (24 vCPUs and 96 GB of RAM)\n",
    "- X% of the 12 million images was used for training and Y% for testing\n",
    "- Regular cross entropy vs. Negative sampling (1000 samples out of 5270)\n",
    "![results](../figures/metrics_v2.png)"
   ]
  },
  {
   "cell_type": "markdown",
   "metadata": {
    "slideshow": {
     "slide_type": "slide"
    }
   },
   "source": [
    "## Future work\n",
    "\n",
    "- Product-wise classification instead of image-wise\n",
    "- Evaluate the performances on the Kaggle test data\n",
    "- More hyperparameter tuning\n",
    "    - Negative sample size (speed/accuracy trade-off)\n",
    "    - Network architecture (number of layers, regularization)\n",
    "- Others\n",
    "    - Exploiting the hierarchy of the categories, e.g. first training a network to predict the (fewer) *category_1* labels, then extending it to the other categories\n",
    "    - Extracting text from the images, which would prove extremely useful in the case of books, CDs and similar products, since they represent an important fraction of the dataset (about 10%)"
   ]
  }
 ],
 "metadata": {
  "celltoolbar": "Slideshow",
  "kernelspec": {
   "display_name": "Python 3",
   "language": "python",
   "name": "python3"
  },
  "language_info": {
   "codemirror_mode": {
    "name": "ipython",
    "version": 3
   },
   "file_extension": ".py",
   "mimetype": "text/x-python",
   "name": "python",
   "nbconvert_exporter": "python",
   "pygments_lexer": "ipython3",
   "version": "3.6.3"
  },
  "toc": {
   "nav_menu": {},
   "number_sections": false,
   "sideBar": true,
   "skip_h1_title": false,
   "toc_cell": false,
   "toc_position": {},
   "toc_section_display": "block",
   "toc_window_display": true
  }
 },
 "nbformat": 4,
 "nbformat_minor": 2
}

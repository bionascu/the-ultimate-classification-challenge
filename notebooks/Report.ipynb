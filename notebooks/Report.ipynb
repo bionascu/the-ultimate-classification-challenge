{
 "cells": [
  {
   "cell_type": "markdown",
   "metadata": {},
   "source": [
    "# Extreme multi-class classification\n",
    "\n",
    "ID2223 Scalable Machine Learning and Deep Learning\n",
    "\n",
    "**Federico Baldassarre (fedbal@kth.se) and Beatrice Ionascu (bionascu@kth.se)**"
   ]
  },
  {
   "cell_type": "code",
   "execution_count": 27,
   "metadata": {},
   "outputs": [
    {
     "name": "stdout",
     "output_type": "stream",
     "text": [
      "The autoreload extension is already loaded. To reload it, use:\n",
      "  %reload_ext autoreload\n"
     ]
    }
   ],
   "source": [
    "# render our plots inline\n",
    "%matplotlib inline\n",
    "# always reload modules marked with \"%aimport\"\n",
    "%load_ext autoreload\n",
    "\n",
    "import os, sys\n",
    "import pandas as pd\n",
    "import numpy as np\n",
    "import matplotlib.pyplot as plt\n",
    "from IPython.display import display, HTML\n",
    "from utils.paths import data_raw_dir\n",
    "from utils.paths import data_processed_dir\n",
    "\n",
    "\n",
    "#pd.set_option('display.mpl_style', 'default') # Make the graphs a bit prettier\n",
    "plt.rcParams['figure.figsize'] = (15, 5)\n",
    "\n",
    "# add the 'src' directory as one where we can import modules\n",
    "src_dir = os.path.join(os.getcwd(), os.pardir, 'src')\n",
    "sys.path.append(src_dir)"
   ]
  },
  {
   "cell_type": "markdown",
   "metadata": {},
   "source": [
    "## Problem"
   ]
  },
  {
   "cell_type": "markdown",
   "metadata": {},
   "source": [
    "## Data set"
   ]
  },
  {
   "cell_type": "code",
   "execution_count": 2,
   "metadata": {},
   "outputs": [],
   "source": [
    "#TODO there are 7 million products (not images!) --> there's > 7 million images"
   ]
  },
  {
   "cell_type": "markdown",
   "metadata": {},
   "source": [
    "The cdiscount dataset consists of 15 million images at 180x180 resolution of almost 9\n",
    "million products from France’s largest non-food e-commerce company.\n",
    "The training data consists of a list of 7,069,896 dictionaries, one per product.\n",
    "Each dictionary contains a product id, the category id of the product, and between\n",
    "1-4 images, stored in a list. In addition, each category id has a corresponding level1,\n",
    "level2, and level3 name, in French."
   ]
  },
  {
   "cell_type": "code",
   "execution_count": 22,
   "metadata": {},
   "outputs": [
    {
     "name": "stdout",
     "output_type": "stream",
     "text": [
      "7069896 products\n"
     ]
    }
   ],
   "source": [
    "print(cat_id_distrib.sum(), 'products')"
   ]
  },
  {
   "cell_type": "code",
   "execution_count": null,
   "metadata": {},
   "outputs": [],
   "source": [
    "# TODO count images"
   ]
  },
  {
   "cell_type": "code",
   "execution_count": 3,
   "metadata": {},
   "outputs": [
    {
     "name": "stdout",
     "output_type": "stream",
     "text": [
      "                 Category counts\n",
      "category_id                 5270\n",
      "category_level1               49\n",
      "category_level2              483\n",
      "category_level3             5263\n"
     ]
    }
   ],
   "source": [
    "categ_counts = pd.read_csv(os.path.join(data_raw_dir, 'category_names.csv'))\n",
    "print(categ_counts.nunique().to_frame('Category counts'))"
   ]
  },
  {
   "cell_type": "markdown",
   "metadata": {},
   "source": [
    "The 5270 available categories are very unevenly distributed amongst the products. The distribution of the number of products per `category_id` approximately follows a power law, with a long tail of categories containing a large number of products. Similar trends are observed for the distribution of the level 1, 2 and 3 categories amongst the products as well."
   ]
  },
  {
   "cell_type": "code",
   "execution_count": 26,
   "metadata": {},
   "outputs": [
    {
     "data": {
      "text/html": [
       "<table border=\"1\" class=\"dataframe\">\n",
       "  <thead>\n",
       "    <tr style=\"text-align: right;\">\n",
       "      <th>category_id</th>\n",
       "      <th>category_level1</th>\n",
       "      <th>category_level2</th>\n",
       "      <th>category_level3</th>\n",
       "    </tr>\n",
       "  </thead>\n",
       "  <tbody>\n",
       "    <tr>\n",
       "      <td>1000021794</td>\n",
       "      <td>ABONNEMENT / SERVICES</td>\n",
       "      <td>CARTE PREPAYEE</td>\n",
       "      <td>CARTE PREPAYEE MULTIMEDIA</td>\n",
       "    </tr>\n",
       "    <tr>\n",
       "      <td>1000012764</td>\n",
       "      <td>AMENAGEMENT URBAIN - VOIRIE</td>\n",
       "      <td>AMENAGEMENT URBAIN</td>\n",
       "      <td>ABRI FUMEUR</td>\n",
       "    </tr>\n",
       "    <tr>\n",
       "      <td>1000012776</td>\n",
       "      <td>AMENAGEMENT URBAIN - VOIRIE</td>\n",
       "      <td>AMENAGEMENT URBAIN</td>\n",
       "      <td>ABRI VELO - ABRI MOTO</td>\n",
       "    </tr>\n",
       "    <tr>\n",
       "      <td>1000012768</td>\n",
       "      <td>AMENAGEMENT URBAIN - VOIRIE</td>\n",
       "      <td>AMENAGEMENT URBAIN</td>\n",
       "      <td>FONTAINE A EAU</td>\n",
       "    </tr>\n",
       "    <tr>\n",
       "      <td>1000012755</td>\n",
       "      <td>AMENAGEMENT URBAIN - VOIRIE</td>\n",
       "      <td>SIGNALETIQUE</td>\n",
       "      <td>PANNEAU D'INFORMATION EXTERIEUR</td>\n",
       "    </tr>\n",
       "  </tbody>\n",
       "</table>"
      ],
      "text/plain": [
       "<IPython.core.display.HTML object>"
      ]
     },
     "metadata": {},
     "output_type": "display_data"
    }
   ],
   "source": [
    "categories = pd.read_pickle(os.path.join(data_processed_dir, 'categories.pickle'))\n",
    "display(HTML(categories.filter(like='category', axis=1).head().to_html(index=False)))"
   ]
  },
  {
   "cell_type": "code",
   "execution_count": 39,
   "metadata": {},
   "outputs": [
    {
     "data": {
      "text/plain": [
       "Text(0.5,1,'Category id (5270)')"
      ]
     },
     "execution_count": 39,
     "metadata": {},
     "output_type": "execute_result"
    },
    {
     "data": {
      "image/png": "[encoded data removed]",
      "text/plain": [
       "<matplotlib.figure.Figure at 0x7f6361eda240>"
      ]
     },
     "metadata": {},
     "output_type": "display_data"
    }
   ],
   "source": [
    "cat_id_distrib = pd.read_pickle(os.path.join(data_processed_dir, 'cat_id_counts.pickle'))\n",
    "cat_1_distrib = pd.read_pickle(os.path.join(data_processed_dir, 'cat_1_counts.pickle'))\n",
    "cat_2_distrib = pd.read_pickle(os.path.join(data_processed_dir, 'cat_2_counts.pickle'))\n",
    "cat_3_distrib = pd.read_pickle(os.path.join(data_processed_dir, 'cat_3_counts.pickle'))\n",
    "fig, ax = plt.subplots(2, 2, figsize=(16,8))\n",
    "ax=ax.ravel()\n",
    "\n",
    "cat_1_distrib.hist(log=True, bins=50,ax=ax[0])\n",
    "ax[0].set_title('Category Level 1 ({})'.format(cat_1_distrib.size))\n",
    "cat_2_distrib.hist(log=True, bins=50,ax=ax[1])\n",
    "ax[1].set_title('Category Level 2 ({})'.format(cat_2_distrib.size))\n",
    "cat_3_distrib.hist(log=True, bins=50,ax=ax[2])\n",
    "ax[2].set_title('Category Level 3 ({})'.format(cat_3_distrib.size))\n",
    "cat_id_distrib.hist(log=True, bins=50,ax=ax[3])\n",
    "ax[3].set_title('Category id ({})'.format(cat_id_distrib.size))"
   ]
  },
  {
   "cell_type": "code",
   "execution_count": 57,
   "metadata": {},
   "outputs": [
    {
     "data": {
      "text/html": [
       "<div>\n",
       "<style scoped>\n",
       "    .dataframe tbody tr th:only-of-type {\n",
       "        vertical-align: middle;\n",
       "    }\n",
       "\n",
       "    .dataframe tbody tr th {\n",
       "        vertical-align: top;\n",
       "    }\n",
       "\n",
       "    .dataframe thead th {\n",
       "        text-align: right;\n",
       "    }\n",
       "</style>\n",
       "<table border=\"1\" class=\"dataframe\">\n",
       "  <thead>\n",
       "    <tr style=\"text-align: right;\">\n",
       "      <th></th>\n",
       "      <th>category_id</th>\n",
       "      <th>category_level1</th>\n",
       "      <th>category_level2</th>\n",
       "      <th>category_level3</th>\n",
       "      <th>counts</th>\n",
       "    </tr>\n",
       "  </thead>\n",
       "  <tbody>\n",
       "    <tr>\n",
       "      <th>4576</th>\n",
       "      <td>1000018296</td>\n",
       "      <td>MUSIQUE</td>\n",
       "      <td>CD</td>\n",
       "      <td>CD POP ROCK - CD ROCK INDE</td>\n",
       "      <td>79640</td>\n",
       "    </tr>\n",
       "    <tr>\n",
       "      <th>2489</th>\n",
       "      <td>1000011423</td>\n",
       "      <td>INFORMATIQUE</td>\n",
       "      <td>IMPRESSION - SCANNER</td>\n",
       "      <td>TONER - RECUPERATEUR DE TONER</td>\n",
       "      <td>71116</td>\n",
       "    </tr>\n",
       "    <tr>\n",
       "      <th>2490</th>\n",
       "      <td>1000011427</td>\n",
       "      <td>INFORMATIQUE</td>\n",
       "      <td>IMPRESSION - SCANNER</td>\n",
       "      <td>CARTOUCHE IMPRIMANTE</td>\n",
       "      <td>69784</td>\n",
       "    </tr>\n",
       "    <tr>\n",
       "      <th>3245</th>\n",
       "      <td>1000014202</td>\n",
       "      <td>LIBRAIRIE</td>\n",
       "      <td>LITTERATURE</td>\n",
       "      <td>LITTERATURE FRANCAISE</td>\n",
       "      <td>65642</td>\n",
       "    </tr>\n",
       "    <tr>\n",
       "      <th>3611</th>\n",
       "      <td>1000015309</td>\n",
       "      <td>LIBRAIRIE</td>\n",
       "      <td>AUTRES LIVRES</td>\n",
       "      <td>AUTRES LIVRES</td>\n",
       "      <td>65435</td>\n",
       "    </tr>\n",
       "    <tr>\n",
       "      <th>3706</th>\n",
       "      <td>1000015609</td>\n",
       "      <td>CHAUSSURES - ACCESSOIRES</td>\n",
       "      <td>ACCESSOIRES CHAUSSURES</td>\n",
       "      <td>ESSUIE-BOTTES - LAVE-BOTTES</td>\n",
       "      <td>12</td>\n",
       "    </tr>\n",
       "    <tr>\n",
       "      <th>3016</th>\n",
       "      <td>1000013297</td>\n",
       "      <td>ELECTRONIQUE</td>\n",
       "      <td>CAPTEURS</td>\n",
       "      <td>SYSTEME DE SURVEILLANCE DE NIVEAU</td>\n",
       "      <td>12</td>\n",
       "    </tr>\n",
       "    <tr>\n",
       "      <th>2023</th>\n",
       "      <td>1000008894</td>\n",
       "      <td>JEUX - JOUETS</td>\n",
       "      <td>JONGLERIE</td>\n",
       "      <td>ASSIETTE CHINOISE</td>\n",
       "      <td>12</td>\n",
       "    </tr>\n",
       "    <tr>\n",
       "      <th>5034</th>\n",
       "      <td>1000019804</td>\n",
       "      <td>SPORT</td>\n",
       "      <td>BASEBALL</td>\n",
       "      <td>BLOUSON DE BASEBALL - VESTE DE BASEBALL</td>\n",
       "      <td>12</td>\n",
       "    </tr>\n",
       "    <tr>\n",
       "      <th>5171</th>\n",
       "      <td>1000020847</td>\n",
       "      <td>TV - VIDEO - SON</td>\n",
       "      <td>PROTECTION - ENTRETIEN</td>\n",
       "      <td>HOUSSE POUR ENREGISTEUR - HOUSSE POUR DICTAPHO...</td>\n",
       "      <td>12</td>\n",
       "    </tr>\n",
       "  </tbody>\n",
       "</table>\n",
       "</div>"
      ],
      "text/plain": [
       "      category_id           category_level1         category_level2  \\\n",
       "4576   1000018296                   MUSIQUE                      CD   \n",
       "2489   1000011423              INFORMATIQUE    IMPRESSION - SCANNER   \n",
       "2490   1000011427              INFORMATIQUE    IMPRESSION - SCANNER   \n",
       "3245   1000014202                 LIBRAIRIE             LITTERATURE   \n",
       "3611   1000015309                 LIBRAIRIE           AUTRES LIVRES   \n",
       "3706   1000015609  CHAUSSURES - ACCESSOIRES  ACCESSOIRES CHAUSSURES   \n",
       "3016   1000013297              ELECTRONIQUE                CAPTEURS   \n",
       "2023   1000008894             JEUX - JOUETS               JONGLERIE   \n",
       "5034   1000019804                     SPORT                BASEBALL   \n",
       "5171   1000020847          TV - VIDEO - SON  PROTECTION - ENTRETIEN   \n",
       "\n",
       "                                        category_level3  counts  \n",
       "4576                         CD POP ROCK - CD ROCK INDE   79640  \n",
       "2489                      TONER - RECUPERATEUR DE TONER   71116  \n",
       "2490                               CARTOUCHE IMPRIMANTE   69784  \n",
       "3245                              LITTERATURE FRANCAISE   65642  \n",
       "3611                                      AUTRES LIVRES   65435  \n",
       "3706                        ESSUIE-BOTTES - LAVE-BOTTES      12  \n",
       "3016                  SYSTEME DE SURVEILLANCE DE NIVEAU      12  \n",
       "2023                                  ASSIETTE CHINOISE      12  \n",
       "5034            BLOUSON DE BASEBALL - VESTE DE BASEBALL      12  \n",
       "5171  HOUSSE POUR ENREGISTEUR - HOUSSE POUR DICTAPHO...      12  "
      ]
     },
     "execution_count": 57,
     "metadata": {},
     "output_type": "execute_result"
    }
   ],
   "source": [
    "pd.merge(categories.filter(like='category'), \n",
    "         cat_id_distrib.sort_values(ascending=False).iloc[np.r_[0:5, -5:0]].to_frame('counts'),\n",
    "         left_index=True, right_index=True).sort_values('counts', ascending=False)"
   ]
  },
  {
   "cell_type": "markdown",
   "metadata": {},
   "source": [
    "## Approach\n",
    "Use xceptio as feature extraction\n",
    "Architecture: Learn a few conv layer and a softmax dense\n",
    "compare negative sampling with regular cross entropy loss\n",
    "\n",
    "## Pre-processing\n",
    "### Label encoding\n",
    "\n",
    "## Feature Extraction\n",
    "### TfRecords\n",
    "\n"
   ]
  },
  {
   "cell_type": "markdown",
   "metadata": {},
   "source": [
    "### Computation graph\n",
    "![computation graph](../figures/computational_graph.png)"
   ]
  },
  {
   "cell_type": "markdown",
   "metadata": {},
   "source": [
    "## Training\n",
    "\n",
    "We trained the network using two different loss functions.\n",
    "\n",
    "explain epoch / step/batch size"
   ]
  },
  {
   "cell_type": "markdown",
   "metadata": {},
   "source": [
    "\n",
    "## Results\n",
    "\n",
    "TODO: legend, x axis label\n",
    "collage?\n",
    "\n",
    "![](../figures/test_acc.png)\n",
    "![](../figures/test_loss.png)\n",
    "![](../figures/train_acc.png)\n",
    "![](../figures/train_loss.png)\n",
    "\n",
    "- classification accuracy and loss per image\n",
    "- can't test on the test data since we don't have access to it ...\n"
   ]
  },
  {
   "cell_type": "markdown",
   "metadata": {},
   "source": [
    "\n",
    "#### Future work\n",
    "- group images into products -- report results per product\n",
    "- use heirarchy\n",
    "- use OCR for books\n",
    "- ..."
   ]
  }
 ],
 "metadata": {
  "kernelspec": {
   "display_name": "Python 3",
   "language": "python",
   "name": "python3"
  },
  "language_info": {
   "codemirror_mode": {
    "name": "ipython",
    "version": 3
   },
   "file_extension": ".py",
   "mimetype": "text/x-python",
   "name": "python",
   "nbconvert_exporter": "python",
   "pygments_lexer": "ipython3",
   "version": "3.6.3"
  },
  "toc": {
   "nav_menu": {},
   "number_sections": false,
   "sideBar": true,
   "skip_h1_title": false,
   "toc_cell": false,
   "toc_position": {},
   "toc_section_display": "block",
   "toc_window_display": true
  }
 },
 "nbformat": 4,
 "nbformat_minor": 2
}
